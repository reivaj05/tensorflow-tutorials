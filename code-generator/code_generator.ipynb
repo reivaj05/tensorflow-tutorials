{
 "cells": [
  {
   "cell_type": "markdown",
   "metadata": {
    "deletable": true,
    "editable": true
   },
   "source": [
    "# Code generator\n",
    "\n",
    "Neural network that generates Golang code"
   ]
  },
  {
   "cell_type": "code",
   "execution_count": 1,
   "metadata": {
    "collapsed": true
   },
   "outputs": [],
   "source": [
    "import json\n",
    "import numpy as np\n",
    "import os\n",
    "import tensorflow as tf"
   ]
  },
  {
   "cell_type": "code",
   "execution_count": 2,
   "metadata": {
    "collapsed": false
   },
   "outputs": [],
   "source": [
    "class Dataset(object):\n",
    "    dataset_file = 'dataset.dt'\n",
    "    dataset_folder = 'dataset'\n",
    "    \n",
    "    def __init__(self):\n",
    "        dataset = self.load_dataset()\n",
    "        self.encoded, self.vocab_to_int, self.int_to_vocab = dataset\n",
    "        \n",
    "    def load_dataset(self):\n",
    "        if self.exists_clean_dataset():\n",
    "            return self.load_clean_dataset()\n",
    "        dataset = self.create_dataset()\n",
    "        self.save_clean_dataset(dataset)\n",
    "        return dataset\n",
    "\n",
    "    def exists_clean_dataset(self):\n",
    "        return os.path.isfile(self.dataset_file)\n",
    "\n",
    "    def load_clean_dataset(self):\n",
    "        with open(self.dataset_file, \"r\") as d:\n",
    "            dataset = json.loads(d.read())\n",
    "            return (\n",
    "                np.array(dataset[\"encoded\"]),\n",
    "                dataset[\"vocab_to_int\"],\n",
    "                dataset[\"int_to_vocab\"]\n",
    "            )\n",
    "        \n",
    "    def create_dataset(self):\n",
    "        file_names = self.get_file_names()\n",
    "        content = self.get_content_from_files(file_names)\n",
    "        return self.create_vocab(content)\n",
    "            \n",
    "    def get_file_names(self):\n",
    "        files = os.listdir(self.dataset_folder)\n",
    "        return [f for f in files if f.endswith('.go')]\n",
    "    \n",
    "    def get_content_from_files(self, file_names):\n",
    "        content = ''\n",
    "        for name in file_names:\n",
    "            with open(os.path.join(self.dataset_folder, name), 'r') as f:\n",
    "                content += f.read() + '\\n'\n",
    "        return content\n",
    "    \n",
    "    def create_vocab(self, content):\n",
    "        vocab = set(content)\n",
    "        vocab_to_int = {c: i for i, c in enumerate(vocab)}\n",
    "        int_to_vocab = dict(enumerate(vocab))\n",
    "        encoded = np.array([vocab_to_int[c] for c in content], dtype=np.int32)\n",
    "        return encoded, vocab_to_int, int_to_vocab\n",
    "    \n",
    "    def save_clean_dataset(self, dataset):\n",
    "        encoded, v_to_int, int_to_v = dataset\n",
    "        with open(self.dataset_file, \"w+\") as d:\n",
    "            d.write(json.dumps({\n",
    "                'encoded' : [int(i) for i in encoded], \n",
    "                'vocab_to_int' : v_to_int,\n",
    "                'int_to_vocab' : int_to_v\n",
    "            }))"
   ]
  },
  {
   "cell_type": "code",
   "execution_count": 8,
   "metadata": {
    "collapsed": false,
    "deletable": true,
    "editable": true
   },
   "outputs": [
    {
     "data": {
      "text/plain": [
       "<__main__.Model at 0x7f99c9f47ef0>"
      ]
     },
     "execution_count": 8,
     "metadata": {},
     "output_type": "execute_result"
    }
   ],
   "source": [
    "class Model(object):\n",
    "    # TODO: Change to None\n",
    "    batch_size = 200\n",
    "    sequence_size = 100\n",
    "    \n",
    "    hidden_layer_size = 512\n",
    "    num_layers = 2\n",
    "    \n",
    "    learning_rate = 0.0005\n",
    "    \n",
    "    checkpoint = None\n",
    "    \n",
    "    def __init__(self):\n",
    "        tf.reset_default_graph()\n",
    "        self.dataset = Dataset()\n",
    "        self.io_size = len(self.dataset.vocab_to_int)\n",
    "        self.build_graph()\n",
    "        \n",
    "    def build_graph(self):\n",
    "        self.build_inputs()\n",
    "        lstm_outputs = self.build_lstm()\n",
    "        logits = self.build_output(lstm_outputs)\n",
    "        self.build_loss(logits)\n",
    "        self.build_optimizer()\n",
    "        \n",
    "    def build_inputs(self):\n",
    "        self.inputs = tf.placeholder(tf.int32, [None, self.sequence_size], name='inputs')\n",
    "        self.targets = tf.placeholder(tf.int32, [None, self.sequence_size], name='targets')\n",
    "        self.keep_prob = tf.placeholder(tf.float32, name='keep_prob')\n",
    "        \n",
    "    def build_lstm(self):\n",
    "        def create_lstm():\n",
    "            lstm = tf.contrib.rnn.BasicLSTMCell(self.hidden_layer_size)\n",
    "            lstm = tf.contrib.rnn.DropoutWrapper(lstm, output_keep_prob=self.keep_prob)\n",
    "            return lstm\n",
    "        \n",
    "        cell = tf.contrib.rnn.MultiRNNCell([create_lstm() for _ in range(self.num_layers)])\n",
    "        self.initial_state = cell.zero_state(self.batch_size, tf.float32)\n",
    "        x_one_hot = tf.one_hot(self.inputs, self.io_size)\n",
    "        outputs, self.final_state = tf.nn.dynamic_rnn(cell, x_one_hot, initial_state=self.initial_state)\n",
    "        return outputs\n",
    "    \n",
    "    def build_output(self, lstm_outputs):\n",
    "        x = tf.reshape(lstm_outputs, [-1, self.hidden_layer_size])\n",
    "        \n",
    "        weights = tf.Variable(tf.truncated_normal((self.hidden_layer_size, self.io_size), stddev=0.1))\n",
    "        bias = tf.Variable(tf.zeros(self.io_size))\n",
    "        \n",
    "        logits = tf.add(tf.matmul(x, weights), bias)\n",
    "        \n",
    "        self.prediction = tf.nn.softmax(logits)\n",
    "        \n",
    "        return logits\n",
    "    \n",
    "    def build_loss(self, logits):\n",
    "        y_one_hot = tf.one_hot(self.targets, self.io_size)\n",
    "        y_reshaped = tf.reshape(y_one_hot, logits.get_shape())\n",
    "        loss = tf.nn.softmax_cross_entropy_with_logits(logits=logits, labels=y_reshaped)\n",
    "        self.loss = tf.reduce_mean(loss)\n",
    "        \n",
    "    def build_optimizer(self):\n",
    "        optimizer = tf.train.AdamOptimizer(self.learning_rate)\n",
    "        self.optimizer = optimizer.minimize(self.loss)\n",
    "        \n",
    "Model()"
   ]
  },
  {
   "cell_type": "code",
   "execution_count": null,
   "metadata": {
    "collapsed": true
   },
   "outputs": [],
   "source": [
    "class Trainer(Model):\n",
    "    pass"
   ]
  },
  {
   "cell_type": "code",
   "execution_count": null,
   "metadata": {
    "collapsed": true
   },
   "outputs": [],
   "source": [
    "class Predcitor(Model):\n",
    "    pass"
   ]
  },
  {
   "cell_type": "code",
   "execution_count": null,
   "metadata": {
    "collapsed": true
   },
   "outputs": [],
   "source": []
  }
 ],
 "metadata": {
  "kernelspec": {
   "display_name": "Python 3",
   "language": "python",
   "name": "python3"
  },
  "language_info": {
   "codemirror_mode": {
    "name": "ipython",
    "version": 3
   },
   "file_extension": ".py",
   "mimetype": "text/x-python",
   "name": "python",
   "nbconvert_exporter": "python",
   "pygments_lexer": "ipython3",
   "version": "3.6.1"
  }
 },
 "nbformat": 4,
 "nbformat_minor": 2
}
