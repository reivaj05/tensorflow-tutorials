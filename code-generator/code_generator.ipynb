{
 "cells": [
  {
   "cell_type": "markdown",
   "metadata": {
    "deletable": true,
    "editable": true
   },
   "source": [
    "# Code generator\n",
    "\n",
    "Neural network that generates Golang code"
   ]
  },
  {
   "cell_type": "code",
   "execution_count": 39,
   "metadata": {
    "collapsed": true
   },
   "outputs": [],
   "source": [
    "import json\n",
    "import numpy as np\n",
    "import os\n",
    "import tensorflow as tf"
   ]
  },
  {
   "cell_type": "code",
   "execution_count": 37,
   "metadata": {
    "collapsed": false
   },
   "outputs": [],
   "source": [
    "class Dataset(object):\n",
    "    dataset_file = 'dataset.dt'\n",
    "    dataset_folder = 'dataset'\n",
    "    \n",
    "    def __init__(self):\n",
    "        dataset = self.load_dataset()\n",
    "        self.encoded, self.vocab_to_int, self.int_to_vocab = dataset\n",
    "        \n",
    "    def load_dataset(self):\n",
    "        if self.exists_clean_dataset():\n",
    "            return self.load_clean_dataset()\n",
    "        dataset = self.create_dataset()\n",
    "        self.save_clean_dataset(dataset)\n",
    "        return dataset\n",
    "\n",
    "    def exists_clean_dataset(self):\n",
    "        return os.path.isfile(self.dataset_file)\n",
    "\n",
    "    def load_clean_dataset(self):\n",
    "        with open(self.dataset_file, \"r\") as d:\n",
    "            dataset = json.loads(d.read())\n",
    "            return (\n",
    "                np.array(dataset[\"encoded\"]),\n",
    "                dataset[\"vocab_to_int\"],\n",
    "                dataset[\"int_to_vocab\"]\n",
    "            )\n",
    "        \n",
    "    def create_dataset(self):\n",
    "        file_names = self.get_file_names()\n",
    "        content = self.get_content_from_files(file_names)\n",
    "        return self.create_vocab(content)\n",
    "            \n",
    "    def get_file_names(self):\n",
    "        files = os.listdir(self.dataset_folder)\n",
    "        return [f for f in files if f.endswith('.go')]\n",
    "    \n",
    "    def get_content_from_files(self, file_names):\n",
    "        content = ''\n",
    "        for name in file_names:\n",
    "            with open(os.path.join(self.dataset_folder, name), 'r') as f:\n",
    "                content += f.read() + '\\n'\n",
    "        return content\n",
    "    \n",
    "    def create_vocab(self, content):\n",
    "        vocab = set(content)\n",
    "        vocab_to_int = {c: i for i, c in enumerate(vocab)}\n",
    "        int_to_vocab = dict(enumerate(vocab))\n",
    "        encoded = np.array([vocab_to_int[c] for c in content], dtype=np.int32)\n",
    "        return encoded, vocab_to_int, int_to_vocab\n",
    "    \n",
    "    def save_clean_dataset(self, dataset):\n",
    "        encoded, v_to_int, int_to_v = dataset\n",
    "        with open(self.dataset_file, \"w+\") as d:\n",
    "            d.write(json.dumps({\n",
    "                'encoded' : [int(i) for i in encoded], \n",
    "                'vocab_to_int' : v_to_int,\n",
    "                'int_to_vocab' : int_to_v\n",
    "            }))"
   ]
  },
  {
   "cell_type": "code",
   "execution_count": 38,
   "metadata": {
    "collapsed": false,
    "deletable": true,
    "editable": true
   },
   "outputs": [
    {
     "ename": "AttributeError",
     "evalue": "'Model' object has no attribute 'build_inputs'",
     "output_type": "error",
     "traceback": [
      "\u001b[0;31m---------------------------------------------------------------------------\u001b[0m",
      "\u001b[0;31mAttributeError\u001b[0m                            Traceback (most recent call last)",
      "\u001b[0;32m<ipython-input-38-1011347fcccd>\u001b[0m in \u001b[0;36m<module>\u001b[0;34m()\u001b[0m\n\u001b[1;32m     13\u001b[0m         \u001b[0mself\u001b[0m\u001b[0;34m.\u001b[0m\u001b[0mbuild_optimizer\u001b[0m\u001b[0;34m(\u001b[0m\u001b[0;34m)\u001b[0m\u001b[0;34m\u001b[0m\u001b[0m\n\u001b[1;32m     14\u001b[0m \u001b[0;34m\u001b[0m\u001b[0m\n\u001b[0;32m---> 15\u001b[0;31m \u001b[0mModel\u001b[0m\u001b[0;34m(\u001b[0m\u001b[0;34m)\u001b[0m\u001b[0;34m\u001b[0m\u001b[0m\n\u001b[0m",
      "\u001b[0;32m<ipython-input-38-1011347fcccd>\u001b[0m in \u001b[0;36m__init__\u001b[0;34m(self)\u001b[0m\n\u001b[1;32m      4\u001b[0m \u001b[0;34m\u001b[0m\u001b[0m\n\u001b[1;32m      5\u001b[0m     \u001b[0;32mdef\u001b[0m \u001b[0m__init__\u001b[0m\u001b[0;34m(\u001b[0m\u001b[0mself\u001b[0m\u001b[0;34m)\u001b[0m\u001b[0;34m:\u001b[0m\u001b[0;34m\u001b[0m\u001b[0m\n\u001b[0;32m----> 6\u001b[0;31m         \u001b[0mself\u001b[0m\u001b[0;34m.\u001b[0m\u001b[0mbuild_graph\u001b[0m\u001b[0;34m(\u001b[0m\u001b[0;34m)\u001b[0m\u001b[0;34m\u001b[0m\u001b[0m\n\u001b[0m\u001b[1;32m      7\u001b[0m \u001b[0;34m\u001b[0m\u001b[0m\n\u001b[1;32m      8\u001b[0m     \u001b[0;32mdef\u001b[0m \u001b[0mbuild_graph\u001b[0m\u001b[0;34m(\u001b[0m\u001b[0mself\u001b[0m\u001b[0;34m)\u001b[0m\u001b[0;34m:\u001b[0m\u001b[0;34m\u001b[0m\u001b[0m\n",
      "\u001b[0;32m<ipython-input-38-1011347fcccd>\u001b[0m in \u001b[0;36mbuild_graph\u001b[0;34m(self)\u001b[0m\n\u001b[1;32m      7\u001b[0m \u001b[0;34m\u001b[0m\u001b[0m\n\u001b[1;32m      8\u001b[0m     \u001b[0;32mdef\u001b[0m \u001b[0mbuild_graph\u001b[0m\u001b[0;34m(\u001b[0m\u001b[0mself\u001b[0m\u001b[0;34m)\u001b[0m\u001b[0;34m:\u001b[0m\u001b[0;34m\u001b[0m\u001b[0m\n\u001b[0;32m----> 9\u001b[0;31m         \u001b[0mself\u001b[0m\u001b[0;34m.\u001b[0m\u001b[0mbuild_inputs\u001b[0m\u001b[0;34m(\u001b[0m\u001b[0;34m)\u001b[0m\u001b[0;34m\u001b[0m\u001b[0m\n\u001b[0m\u001b[1;32m     10\u001b[0m         \u001b[0mself\u001b[0m\u001b[0;34m.\u001b[0m\u001b[0mbuild_lstm\u001b[0m\u001b[0;34m(\u001b[0m\u001b[0;34m)\u001b[0m\u001b[0;34m\u001b[0m\u001b[0m\n\u001b[1;32m     11\u001b[0m         \u001b[0mself\u001b[0m\u001b[0;34m.\u001b[0m\u001b[0mbuild_output\u001b[0m\u001b[0;34m(\u001b[0m\u001b[0;34m)\u001b[0m\u001b[0;34m\u001b[0m\u001b[0m\n",
      "\u001b[0;31mAttributeError\u001b[0m: 'Model' object has no attribute 'build_inputs'"
     ]
    }
   ],
   "source": [
    "class Model(object):\n",
    "    batch_size = None\n",
    "    sequence_size = None\n",
    "    \n",
    "    def __init__(self):\n",
    "        self.build_graph()\n",
    "        \n",
    "    def build_graph(self):\n",
    "        self.build_inputs()\n",
    "        self.build_lstm()\n",
    "        self.build_output()\n",
    "        self.build_loss()\n",
    "        self.build_optimizer()\n",
    "        \n",
    "    def build_inputs(self):\n",
    "        self.inputs = tf.placeholder(tf.int32, [None, self.sequence_size], name='inputs')\n",
    "        self.targ = tf.placeholder(tf.int32, [None, self.sequence_size], name='inputs')\n",
    "        self.inputs = tf.placeholder(tf.int32, [None, self.sequence_size], name='inputs')\n",
    "        \n",
    "Model()"
   ]
  },
  {
   "cell_type": "code",
   "execution_count": 4,
   "metadata": {
    "collapsed": true
   },
   "outputs": [],
   "source": [
    "class Trainer(Model):\n",
    "    pass"
   ]
  },
  {
   "cell_type": "code",
   "execution_count": 5,
   "metadata": {
    "collapsed": true
   },
   "outputs": [],
   "source": [
    "class Predcitor(Model):\n",
    "    pass"
   ]
  },
  {
   "cell_type": "code",
   "execution_count": null,
   "metadata": {
    "collapsed": true
   },
   "outputs": [],
   "source": []
  }
 ],
 "metadata": {
  "kernelspec": {
   "display_name": "Python 3",
   "language": "python",
   "name": "python3"
  },
  "language_info": {
   "codemirror_mode": {
    "name": "ipython",
    "version": 3
   },
   "file_extension": ".py",
   "mimetype": "text/x-python",
   "name": "python",
   "nbconvert_exporter": "python",
   "pygments_lexer": "ipython3",
   "version": "3.6.1"
  }
 },
 "nbformat": 4,
 "nbformat_minor": 2
}
