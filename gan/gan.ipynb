{
 "cells": [
  {
   "cell_type": "code",
   "execution_count": 24,
   "metadata": {
    "collapsed": true
   },
   "outputs": [],
   "source": [
    "%matplotlib inline\n",
    "\n",
    "import pickle as pkl\n",
    "import numpy as np\n",
    "import tensorflow as tf\n",
    "import matplotlib.pyplot as plt"
   ]
  },
  {
   "cell_type": "code",
   "execution_count": 25,
   "metadata": {
    "collapsed": false
   },
   "outputs": [
    {
     "name": "stdout",
     "output_type": "stream",
     "text": [
      "Extracting MNIST_data/train-images-idx3-ubyte.gz\n",
      "Extracting MNIST_data/train-labels-idx1-ubyte.gz\n",
      "Extracting MNIST_data/t10k-images-idx3-ubyte.gz\n",
      "Extracting MNIST_data/t10k-labels-idx1-ubyte.gz\n"
     ]
    }
   ],
   "source": [
    "# Download mnist data\n",
    "\n",
    "from tensorflow.examples.tutorials.mnist import input_data\n",
    "\n",
    "mnist = input_data.read_data_sets('MNIST_data')"
   ]
  },
  {
   "cell_type": "code",
   "execution_count": 26,
   "metadata": {
    "collapsed": true
   },
   "outputs": [],
   "source": [
    "# Create model inputs\n",
    "\n",
    "def model_inputs(discriminator_dim, generator_dim):\n",
    "    discriminator_inputs = tf.placeholder(\n",
    "        tf.float32,\n",
    "        shape=[None, discriminator_dim],\n",
    "        name='discriminator_input'\n",
    "    )\n",
    "    generator_inputs = tf.placeholder(\n",
    "        tf.float32,\n",
    "        shape=[None, generator_dim],\n",
    "        name='generator_input'\n",
    "    )\n",
    "    return discriminator_inputs, generator_inputs"
   ]
  },
  {
   "cell_type": "code",
   "execution_count": 27,
   "metadata": {
    "collapsed": false
   },
   "outputs": [],
   "source": [
    "# Create generator\n",
    "\n",
    "def generator(_input, out_dim, num_units=128, reuse=False, alpha=0.01):\n",
    "    with tf.variable_scope('generator', reuse=reuse):\n",
    "        hidden_layer = tf.layers.dense(_input, num_units)\n",
    "        leaky_relu = tf.maximum(hidden_layer * alpha, hidden_layer)\n",
    "        \n",
    "        logits = tf.layers.dense(leaky_relu, out_dim)\n",
    "        return tf.tanh(logits)"
   ]
  },
  {
   "cell_type": "code",
   "execution_count": 28,
   "metadata": {
    "collapsed": true
   },
   "outputs": [],
   "source": [
    "# Create discriminator\n",
    "\n",
    "def discriminator(_input, num_units=128, reuse=False, alpha=0.01):\n",
    "    with tf.variable_scope('discriminator', reuse=reuse):\n",
    "        hidden_layer = tf.layers.dense(_input, num_units)\n",
    "        leaky_relu = tf.maximum(hidden_layer * alpha, hidden_layer)\n",
    "        \n",
    "        logits = tf.layers.dense(leaky_relu, 1)\n",
    "        return tf.sigmoid(logits), logits"
   ]
  },
  {
   "cell_type": "code",
   "execution_count": 29,
   "metadata": {
    "collapsed": true
   },
   "outputs": [],
   "source": [
    "# Set hyperparameters\n",
    "\n",
    "discriminator_input_size = 728\n",
    "generator_input_size = 100\n",
    "\n",
    "generator_hidden_size = discriminator_hidden_size = 128\n",
    "\n",
    "alpha = 0.01\n",
    "\n",
    "\n",
    "smooth = 0.1"
   ]
  },
  {
   "cell_type": "code",
   "execution_count": 32,
   "metadata": {
    "collapsed": false
   },
   "outputs": [],
   "source": [
    "# Building the network\n",
    "\n",
    "tf.reset_default_graph()\n",
    "## Create input placeholders\n",
    "discriminator_input, generator_input = model_inputs(\n",
    "    discriminator_input_size, generator_input_size)\n",
    "\n",
    "\n",
    "## Build the model\n",
    "\n",
    "generator_model = generator(generator_input, discriminator_input_size)\n",
    "\n",
    "discriminator_model_real, discriminator_logits_real = discriminator(discriminator_input)\n",
    "discriminator_model_fake, discriminator_logits_fake = discriminator(generator_model, reuse=True)"
   ]
  },
  {
   "cell_type": "code",
   "execution_count": null,
   "metadata": {
    "collapsed": true
   },
   "outputs": [],
   "source": [
    "# Losses\n",
    "\n",
    "## Discriminator loss real\n",
    "\n",
    "discriminator_loss_real = tf.nn.sigmoid_cross_entropy_with_logits(\n",
    "    logits=discriminator_logits_real,\n",
    "    labels=tf.ones_like(discriminator_logits_real) * (1 - smooth)\n",
    ")\n",
    "discriminator_loss_real = tf.reduce_mean(discriminator_loss_real)\n",
    "\n",
    "## Discriminator loss fake\n",
    "\n",
    "discriminator_loss_fake = tf.nn.sigmoid_cross_entropy_with_logits(\n",
    "    logits=discriminator_logits_fake,\n",
    "    labels=tf.zeros_like(discriminator_logits_real)\n",
    ")\n",
    "discriminator_loss_fake = tf.reduce_mean(discriminator_loss_fake)\n",
    "\n",
    "## Discriminator loss\n",
    "\n",
    "discriminator_loss = discriminator_loss_real + discriminator_loss_fake\n",
    "\n",
    "## Generator loss\n",
    "\n",
    "generator_loss = tf.nn.os"
   ]
  }
 ],
 "metadata": {
  "kernelspec": {
   "display_name": "Python 2",
   "language": "python",
   "name": "python2"
  },
  "language_info": {
   "codemirror_mode": {
    "name": "ipython",
    "version": 2
   },
   "file_extension": ".py",
   "mimetype": "text/x-python",
   "name": "python",
   "nbconvert_exporter": "python",
   "pygments_lexer": "ipython2",
   "version": "2.7.6"
  }
 },
 "nbformat": 4,
 "nbformat_minor": 1
}
